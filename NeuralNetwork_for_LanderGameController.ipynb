{
 "cells": [
  {
   "cell_type": "code",
   "execution_count": 7,
   "metadata": {},
   "outputs": [],
   "source": [
    "from random import random\n",
    "import math\n",
    "\n",
    "class Neuron:\n",
    "    def __init__(self,av,num_of_weights,index_of_neuron):\n",
    "        self.av=av\n",
    "        self.num_of_weights=num_of_weights\n",
    "        self.index_of_neuron=index_of_neuron\n",
    "        self.grad_val=[]\n",
    "        self.delta_weights=[]\n",
    "        self.weights=[]\n",
    "        for i in range(self.num_of_weights):\n",
    "            self.weights.append(random())\n",
    "        for i in range(self.num_of_weights):\n",
    "            self.delta_weights.append(0)\n",
    "        \n",
    "    def weight_multiplication(self,prevLayer):\n",
    "        result=0\n",
    "        for i in range(len(prevLayer)):\n",
    "                result = result+((prevLayer[i].av)*(prevLayer[i].weights[self.index_of_neuron]))\n",
    "                self.av=1/(1+(math.exp(-result)))"
   ]
  },
  {
   "cell_type": "code",
   "execution_count": 2,
   "metadata": {},
   "outputs": [],
   "source": [
    "input_layer=[Neuron(0,3,0),Neuron(0,3,1)]\n",
    "hidden_layer=[Neuron(0,2,0),Neuron(0,2,1),Neuron(0,2,2)]\n",
    "output_layer=[Neuron(0,0,0),Neuron(0,0,1)]"
   ]
  },
  {
   "cell_type": "code",
   "execution_count": 3,
   "metadata": {},
   "outputs": [],
   "source": [
    "inputs=[0.001004843,0.347851117]\n",
    "##input_layer[0].weights=[-5.1,-4.3]\n",
    "##input_layer[1].weights=[5.2,4.0]\n",
    "##input_layer[2].weights=[2.7,-2.2]\n",
    "##hidden_layer[0].weights=[-6.0]\n",
    "##hidden_layer[1].weights=[6.5]\n",
    "##hidden_layer[2].weights=[2.7]\n",
    "\n",
    "def feedForward_process(inputs):    \n",
    "    for i in range(len(input_layer)-1):\n",
    "        input_layer[i].av=inputs[i]\n",
    "    for i in range(len(hidden_layer)-1):\n",
    "        hidden_layer[i].weight_multiplication(input_layer)\n",
    "    for i in range(len(output_layer)):\n",
    "        output_layer[i].weight_multiplication(hidden_layer)\n",
    "        print(output_layer[i].av)"
   ]
  },
  {
   "cell_type": "code",
   "execution_count": 4,
   "metadata": {},
   "outputs": [
    {
     "name": "stdout",
     "output_type": "stream",
     "text": [
      "0.6787069643120487\n",
      "0.625200453104436\n"
     ]
    }
   ],
   "source": [
    "feedForward_process(inputs)"
   ]
  },
  {
   "cell_type": "code",
   "execution_count": 5,
   "metadata": {},
   "outputs": [],
   "source": [
    "outputs=[0.39624407,0.368946515]\n",
    "lmbda = 0.8\n",
    "lr=0.1\n",
    "mt=0.8\n",
    "def backPropgation_process(outputs):\n",
    "    error=[]\n",
    "    \n",
    "    ## error calculation \n",
    "    for i in range(len(outputs)):\n",
    "        error.append(outputs[i]-output_layer[i].av)\n",
    "    #print(\"--Errors----\")\n",
    "    ##print(error)\n",
    "        \n",
    "    ## local gradients for output layer\n",
    "    for i in range(len(output_layer)):\n",
    "        output_layer[i].grad_val=lmbda*output_layer[i].av*(1-output_layer[i].av)*error[i]\n",
    "        #print(\"Output layer gradient values\"+str(i))\n",
    "        #print(output_layer[i].grad_val)\n",
    "    \n",
    "    ##local gradients for hidden layer\n",
    "    a=0\n",
    "    for i in range(len(hidden_layer)):\n",
    "        for j in range(len(output_layer)):\n",
    "            a=a+(output_layer[j].grad_val*hidden_layer[i].weights[j])\n",
    "        hidden_layer[i].grad_val=lmbda*hidden_layer[i].av*a\n",
    "        #print(\"Hidden Layer gradient values\"+str(i)+str(j))\n",
    "        #print(hidden_layer[i].grad_val)\n",
    "    \n",
    "    ##delta weights for hidden layer\n",
    "    \n",
    "    for i in range(len(hidden_layer)):\n",
    "        for j in range(len(hidden_layer[i].delta_weights)):\n",
    "            hidden_layer[i].delta_weights[j] = (lr*output_layer[j].grad_val*hidden_layer[i].av)+(mt*hidden_layer[i].delta_weights[j])\n",
    "            hidden_layer[i].weights[j] = hidden_layer[i].weights[j]+hidden_layer[i].delta_weights[j]\n",
    "            #print(\"Weights in the hidden layer \"+str(i)+str(j))\n",
    "            #print(hidden_layer[i].weights[j])\n",
    "             \n",
    "    ##delta weights for input layer\n",
    "    for i in range(len(input_layer)):\n",
    "        for j in range(len(input_layer[i].delta_weights)):\n",
    "            input_layer[i].delta_weights[j] = (lr*hidden_layer[j].grad_val*input_layer[i].av)+(mt*input_layer[i].delta_weights[j])\n",
    "            input_layer[i].weights[j] = input_layer[i].weights[j]+input_layer[i].delta_weights[j]\n",
    "            #print(\"Weights in the input layer \"+str(i)+str(j))\n",
    "            #print(input_layer[i].weights[j])\n",
    "            "
   ]
  },
  {
   "cell_type": "code",
   "execution_count": 6,
   "metadata": {},
   "outputs": [],
   "source": [
    "backPropgation_process(outputs)"
   ]
  },
  {
   "cell_type": "code",
   "execution_count": null,
   "metadata": {},
   "outputs": [],
   "source": []
  },
  {
   "cell_type": "code",
   "execution_count": null,
   "metadata": {},
   "outputs": [],
   "source": []
  },
  {
   "cell_type": "code",
   "execution_count": null,
   "metadata": {},
   "outputs": [],
   "source": []
  },
  {
   "cell_type": "code",
   "execution_count": null,
   "metadata": {},
   "outputs": [],
   "source": []
  }
 ],
 "metadata": {
  "kernelspec": {
   "display_name": "Python 3",
   "language": "python",
   "name": "python3"
  },
  "language_info": {
   "codemirror_mode": {
    "name": "ipython",
    "version": 3
   },
   "file_extension": ".py",
   "mimetype": "text/x-python",
   "name": "python",
   "nbconvert_exporter": "python",
   "pygments_lexer": "ipython3",
   "version": "3.8.5"
  }
 },
 "nbformat": 4,
 "nbformat_minor": 5
}
