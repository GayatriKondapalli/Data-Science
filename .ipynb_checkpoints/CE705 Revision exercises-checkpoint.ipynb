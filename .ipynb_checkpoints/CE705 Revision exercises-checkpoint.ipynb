{
 "cells": [
  {
   "cell_type": "markdown",
   "metadata": {},
   "source": [
    "## Write a function that calculates the Jaccard index between two lists passed as parameters. You can assume they have the same size.\n"
   ]
  },
  {
   "cell_type": "code",
   "execution_count": 32,
   "metadata": {},
   "outputs": [
    {
     "data": {
      "text/plain": [
       "3.0"
      ]
     },
     "execution_count": 32,
     "metadata": {},
     "output_type": "execute_result"
    }
   ],
   "source": [
    "A=[1,2,3,4]\n",
    "B=[4,2,6,7]\n",
    "def jaccarad_index(list1,list2):\n",
    "    list3=[]\n",
    "    for num in list1:\n",
    "        if num in list2:\n",
    "            list3.append(num)\n",
    "    union=len(list1)+len(list2)-len(list3)\n",
    "    intersection=len(list3)\n",
    "    return union/intersection\n",
    "\n",
    "jaccarad_index(A,B)"
   ]
  },
  {
   "cell_type": "markdown",
   "metadata": {},
   "source": [
    "## Write a function that asks the user his age, makes sure it’s actually a number and if that’s the case prints it on the screen. If it isn’t a number just print not a number.\n"
   ]
  },
  {
   "cell_type": "code",
   "execution_count": 43,
   "metadata": {},
   "outputs": [
    {
     "name": "stdout",
     "output_type": "stream",
     "text": [
      "Please enter your age:w\n",
      "Not a number\n"
     ]
    }
   ],
   "source": [
    "def check_age():\n",
    "    age=input('Please enter your age:')\n",
    "    if age.strip().isdigit():\n",
    "        print(\"Your age is :\"+str(age))\n",
    "    else:\n",
    "        print(\"Not a number\")\n",
    "\n",
    "check_age()"
   ]
  },
  {
   "cell_type": "markdown",
   "metadata": {},
   "source": [
    "## Write a function which receives a list containing numbers as parameter. Your function should return true if the elements in the list is in order, and false otherwise"
   ]
  },
  {
   "cell_type": "code",
   "execution_count": 56,
   "metadata": {},
   "outputs": [
    {
     "name": "stdout",
     "output_type": "stream",
     "text": [
      "[1, 2, 3, 7] [1, 2, 3, 7]\n"
     ]
    },
    {
     "data": {
      "text/plain": [
       "True"
      ]
     },
     "execution_count": 56,
     "metadata": {},
     "output_type": "execute_result"
    }
   ],
   "source": [
    "def list_order(list1):\n",
    "    list2=list1.copy()\n",
    "    list1.sort()\n",
    "    print(list1,list2)\n",
    "    if list1==list2:\n",
    "        return True\n",
    "    else:\n",
    "        return False\n",
    "\n",
    "list_order([1,2,3,7])\n",
    "    "
   ]
  },
  {
   "cell_type": "markdown",
   "metadata": {},
   "source": [
    "## Write a function that takes one list and returns its reverse.\n",
    "For instance, if the list is [‘a’, ‘b’, ‘c’] it should return [‘c’, ‘b’, ‘a’]\n"
   ]
  },
  {
   "cell_type": "code",
   "execution_count": 57,
   "metadata": {},
   "outputs": [
    {
     "data": {
      "text/plain": [
       "[3, 2, 1]"
      ]
     },
     "execution_count": 57,
     "metadata": {},
     "output_type": "execute_result"
    }
   ],
   "source": [
    "def list_reverse(list1):\n",
    "    list2=[]\n",
    "    for index in reversed(range(len(list1))):\n",
    "        list2.append(list1[index])\n",
    "    return list2\n",
    "\n",
    "list_reverse([1,2,3])\n"
   ]
  },
  {
   "cell_type": "code",
   "execution_count": 58,
   "metadata": {},
   "outputs": [
    {
     "data": {
      "text/plain": [
       "['c', 'b', 'a']"
      ]
     },
     "execution_count": 58,
     "metadata": {},
     "output_type": "execute_result"
    }
   ],
   "source": [
    "list_reverse(['a','b','c'])"
   ]
  },
  {
   "cell_type": "markdown",
   "metadata": {},
   "source": [
    "## Write a function with one parameter, a list of lists (containing solely numbers). Your function should print on the screen the very first element and the very last. This function should also return the total of the sum of all elements"
   ]
  },
  {
   "cell_type": "code",
   "execution_count": 75,
   "metadata": {},
   "outputs": [
    {
     "name": "stdout",
     "output_type": "stream",
     "text": [
      "First element of the list is 1\n",
      "Last element of the list is 5\n",
      "Sum of all the elements in the list is 16\n"
     ]
    }
   ],
   "source": [
    "def list_ops(list1):\n",
    "    print(\"First element of the list is \" +str(list1[0][0]))\n",
    "    print(\"Last element of the list is \" +str(list1[-1][-1]))\n",
    "    result=0\n",
    "    for list2 in list1:\n",
    "        for num in list2:\n",
    "            result = result+num\n",
    "    print(\"Sum of all the elements in the list is \"+str(result))\n",
    "    \n",
    "list_ops([[1,2,3],[1,4,5]])    "
   ]
  },
  {
   "cell_type": "markdown",
   "metadata": {},
   "source": [
    "## Write a function capable if receiving a list of words and then returns how many of these are palindromes.\n",
    "A palindrome is a word equal to its reverse, line Anna and abcba"
   ]
  },
  {
   "cell_type": "code",
   "execution_count": 104,
   "metadata": {},
   "outputs": [
    {
     "data": {
      "text/plain": [
       "2"
      ]
     },
     "execution_count": 104,
     "metadata": {},
     "output_type": "execute_result"
    }
   ],
   "source": [
    "def palindrome_check(list1):\n",
    "    str1=''\n",
    "    list2=[]\n",
    "    for word in list1:\n",
    "        str1=''\n",
    "        for index in range(len(word)-1,-1,-1):\n",
    "            str1=str1+word[index].lower()\n",
    "        if str1 == word.lower():\n",
    "            list2.append(word)\n",
    "    return len(list2)\n",
    "\n",
    "\n",
    "palindrome_check(['Anna','abcba','Sirish','Gayatri'])   "
   ]
  },
  {
   "cell_type": "code",
   "execution_count": 88,
   "metadata": {},
   "outputs": [],
   "source": [
    "for i in range(4,1):\n",
    "    print(i)"
   ]
  },
  {
   "cell_type": "code",
   "execution_count": null,
   "metadata": {},
   "outputs": [],
   "source": []
  }
 ],
 "metadata": {
  "kernelspec": {
   "display_name": "Python 3",
   "language": "python",
   "name": "python3"
  },
  "language_info": {
   "codemirror_mode": {
    "name": "ipython",
    "version": 3
   },
   "file_extension": ".py",
   "mimetype": "text/x-python",
   "name": "python",
   "nbconvert_exporter": "python",
   "pygments_lexer": "ipython3",
   "version": "3.8.5"
  }
 },
 "nbformat": 4,
 "nbformat_minor": 4
}
